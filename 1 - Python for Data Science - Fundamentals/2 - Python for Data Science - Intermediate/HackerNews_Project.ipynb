{
 "cells": [
  {
   "cell_type": "markdown",
   "metadata": {},
   "source": [
    "Dataset: https://www.kaggle.com/hacker-news/hacker-news-posts/data#\n",
    "\n",
    "Columns: [\"id\", \"title\", \"url\", \"num_points\", \"num_comments\", \"author\", \"created_at\"]\n",
    "\n",
    "This data set is Hacker News posts from the last 12 months (up to September 26 2016).\n",
    "\n",
    "It includes the following columns:\n",
    "\n",
    "title: title of the post (self explanatory)\n",
    "\n",
    "url: the url of the item being linked to\n",
    "\n",
    "num_points: the number of upvotes the post received\n",
    "\n",
    "num_comments: the number of comments the post received\n",
    "\n",
    "author: the name of the account that made the post\n",
    "\n",
    "created_at: the date and time the post was made (the time zone is Eastern Time in the US)"
   ]
  },
  {
   "cell_type": "markdown",
   "metadata": {},
   "source": [
    "1. Start by adding a title and writing a paragraph in a markdown cell introducing the project and the data set. The title and the introduction are tentative at this point, so don't spend too much time here — you can come back at the end of your work to refine them.\n",
    "\n",
    "2. Read the hacker_news.csv file in as a list of lists.\n",
    "\n",
    "3. Assign the result to the variable hn.\n",
    "\n",
    "4. Display the first five rows of hn."
   ]
  },
  {
   "cell_type": "code",
   "execution_count": 26,
   "metadata": {},
   "outputs": [
    {
     "name": "stdout",
     "output_type": "stream",
     "text": [
      "['id', 'title', 'url', 'num_points', 'num_comments', 'author', 'created_at']\n",
      "['12579008', 'You have two days to comment if you want stem cells to be classified as your own', 'http://www.regulations.gov/document?D=FDA-2015-D-3719-0018', '1', '0', 'altstar', '9/26/2016 3:26']\n",
      "['12579005', 'SQLAR  the SQLite Archiver', 'https://www.sqlite.org/sqlar/doc/trunk/README.md', '1', '0', 'blacksqr', '9/26/2016 3:24']\n",
      "['12578997', 'What if we just printed a flatscreen television on the side of our boxes?', 'https://medium.com/vanmoof/our-secrets-out-f21c1f03fdc8#.ietxmez43', '1', '0', 'pavel_lishin', '9/26/2016 3:19']\n",
      "['12578989', 'algorithmic music', 'http://cacm.acm.org/magazines/2011/7/109891-algorithmic-composition/fulltext', '1', '0', 'poindontcare', '9/26/2016 3:16']\n"
     ]
    }
   ],
   "source": [
    "import csv\n",
    "\n",
    "\n",
    "hn = []\n",
    "\n",
    "with open(\"hacker_news.csv\", encoding = 'utf8') as hackernews:\n",
    "    reader = csv.reader(hackernews)\n",
    "    for row in reader:\n",
    "        hn.append(row)\n",
    "\n",
    "for i in range(5):\n",
    "    print(hn[i])"
   ]
  },
  {
   "cell_type": "markdown",
   "metadata": {},
   "source": [
    "5. Extract the first row of data, and assign it to the variable headers.\n",
    "6. Remove the first row from hn.\n",
    "7. Display headers.\n",
    "8. Display the first five rows of hn to verify that you removed the header row properly."
   ]
  },
  {
   "cell_type": "code",
   "execution_count": 27,
   "metadata": {},
   "outputs": [
    {
     "name": "stdout",
     "output_type": "stream",
     "text": [
      "['id', 'title', 'url', 'num_points', 'num_comments', 'author', 'created_at']\n",
      "['12579008', 'You have two days to comment if you want stem cells to be classified as your own', 'http://www.regulations.gov/document?D=FDA-2015-D-3719-0018', '1', '0', 'altstar', '9/26/2016 3:26']\n",
      "['12579005', 'SQLAR  the SQLite Archiver', 'https://www.sqlite.org/sqlar/doc/trunk/README.md', '1', '0', 'blacksqr', '9/26/2016 3:24']\n",
      "['12578997', 'What if we just printed a flatscreen television on the side of our boxes?', 'https://medium.com/vanmoof/our-secrets-out-f21c1f03fdc8#.ietxmez43', '1', '0', 'pavel_lishin', '9/26/2016 3:19']\n",
      "['12578989', 'algorithmic music', 'http://cacm.acm.org/magazines/2011/7/109891-algorithmic-composition/fulltext', '1', '0', 'poindontcare', '9/26/2016 3:16']\n",
      "['12578979', 'How the Data Vault Enables the Next-Gen Data Warehouse and Data Lake', 'https://www.talend.com/blog/2016/05/12/talend-and-Â\\x93the-data-vaultÂ\\x94', '1', '0', 'markgainor1', '9/26/2016 3:14']\n"
     ]
    }
   ],
   "source": [
    "headers = hn[0]\n",
    "\n",
    "del hn[0]\n",
    "\n",
    "print(headers)\n",
    "\n",
    "for i in range(5):\n",
    "    print(hn[i])"
   ]
  },
  {
   "cell_type": "markdown",
   "metadata": {},
   "source": [
    "9. Create three empty lists called ask_posts, show_posts, and other_posts.\n",
    "10. Loop through each row in hn.\n",
    "       Assign the title in each row to a variable named title.\n",
    "        Because the title column is the second column, you'll need to get the element at index 1 in each row.\n",
    "11. Implement the following steps:\n",
    "        If the lowercase version of title starts with ask hn, append the row to ask_posts.\n",
    "        Else if the lowercase version of title starts with show hn, append the row to show_posts.\n",
    "        Else append to other_posts.\n",
    "12. Check the number of posts in ask_posts, show_posts, and other_posts."
   ]
  },
  {
   "cell_type": "code",
   "execution_count": 31,
   "metadata": {},
   "outputs": [
    {
     "name": "stdout",
     "output_type": "stream",
     "text": [
      "The length of ask_posts is:  9122\n",
      "The length of show_posts is:  10150\n",
      "The length of other_posts is:  273847\n"
     ]
    }
   ],
   "source": [
    "ask_posts = []\n",
    "show_posts = []\n",
    "other_posts = []\n",
    "\n",
    "for row in hn:\n",
    "    title = row[1]\n",
    "    if title.startswith(\"Ask HN\"):\n",
    "        ask_posts.append(row)\n",
    "    elif title.startswith(\"Show HN\"):\n",
    "        show_posts.append(row)\n",
    "    else:\n",
    "        other_posts.append(row)\n",
    "        \n",
    "print(\"The length of ask_posts is: \", len(ask_posts))\n",
    "print(\"The length of show_posts is: \", len(show_posts))\n",
    "print(\"The length of other_posts is: \", len(other_posts))\n"
   ]
  },
  {
   "cell_type": "markdown",
   "metadata": {},
   "source": [
    "13. Find the total number of comments in ask posts and assign it to total_ask_comments.\n",
    "    Set total_ask_comments to 0.\n",
    "14. Use a for loop to iterate over the ask posts.\n",
    "    Because the num_comments column is the fifth column in ask_posts, you'll need to get the element at index 4 in each row.\n",
    "    You'll also need to convert the value to an integer so that we can calculate the sum of all the comments.\n",
    "    Add this value to total_ask_comments.\n",
    "15. Compute the average number of comments on ask posts and assign it to avg_ask_comments.\n",
    "16. Print avg_ask_comments.\n",
    "17. Find the total number of comments in show posts and assign it to total_show_comments.\n",
    "    Set total_show_comments to 0.\n",
    "18. Use a for loop to iterate over the show posts.\n",
    "    Because the num_comments column is the fifth column in show_posts, you'll need to get the element at index 4 in each row.\n",
    "    You'll also need to convert the value to an integer so that we can calculate the sum of all the comments.\n",
    "    Add this value to total_show_comments.\n",
    "19. Compute the average number of comments on show posts and assign it to avg_show_comments.\n",
    "20. Print avg_show_comments.\n",
    "21. Do show posts or ask posts receive more comments on average? Write a markdown cell explaining your findings."
   ]
  },
  {
   "cell_type": "code",
   "execution_count": 34,
   "metadata": {},
   "outputs": [
    {
     "name": "stdout",
     "output_type": "stream",
     "text": [
      "10.406709055031792\n"
     ]
    }
   ],
   "source": [
    "total_ask_comments = 0\n",
    "\n",
    "for row in ask_posts:\n",
    "    total_ask_comments += int(row[4])\n",
    "    \n",
    "avg_ask_comments = total_ask_comments/len(ask_posts)\n",
    "print(avg_ask_comments)"
   ]
  },
  {
   "cell_type": "code",
   "execution_count": 35,
   "metadata": {},
   "outputs": [
    {
     "name": "stdout",
     "output_type": "stream",
     "text": [
      "4.888374384236453\n"
     ]
    }
   ],
   "source": [
    "total_show_comments = 0\n",
    "\n",
    "for row in show_posts:\n",
    "    total_show_comments += int(row[4])\n",
    "    \n",
    "avg_show_comments = total_show_comments/len(show_posts)\n",
    "print(avg_show_comments)"
   ]
  },
  {
   "cell_type": "markdown",
   "metadata": {},
   "source": [
    "22. Import the datetime module as dt.\n",
    "23. Create an empty list and assign it to result_list. This will be a list of lists.\n",
    "24. Iterate over ask_posts and append to result_list a list with two elements:\n",
    "    The first element shall be the column created_at.\n",
    "    Because the created_at column is the seventh column in ask_posts, you'll need to get the element at index 6 in each row.\n",
    "    The second element shall be the number of comments of the post.\n",
    "    You'll also need to convert the value to an integer.\n",
    "25. Create two empty dictionaries called counts_by_hour and comments_by_hour.\n",
    "26. Loop through each row of result_list.\n",
    "27. Extract the hour from the date, which is the first element of the row.\n",
    "28. Use the datetime.strptime() method to parse the date and create a datetime object.\n",
    "29. Use the string we want to parse as the first argument and a string that specifies the format as the second argument.\n",
    "    Use the datetime.strftime() method to select just the hour from the datetime object.\n",
    "    If the hour isn't a key in counts_by_hour:\n",
    "    Create the key in counts_by_hour and set it equal to 1.\n",
    "    Create the key in comments_by_hour and set it equal to the comment number.\n",
    "    If the hour is already a key in counts_by_hour:\n",
    "    Increment the value in counts_by_hour by 1.\n",
    "    Increment the value in comments_by_hour by the comment number."
   ]
  },
  {
   "cell_type": "code",
   "execution_count": 36,
   "metadata": {},
   "outputs": [
    {
     "name": "stdout",
     "output_type": "stream",
     "text": [
      "[['9/26/2016 2:53', 7], ['9/26/2016 1:17', 3], ['9/25/2016 22:57', 0], ['9/25/2016 22:48', 3], ['9/25/2016 21:50', 2]]\n"
     ]
    }
   ],
   "source": [
    "import datetime as dt\n",
    "result_list = []\n",
    "\n",
    "for row in ask_posts:\n",
    "    result_list.append([row[6], int(row[4])])\n",
    "\n",
    "print(result_list[:5])"
   ]
  },
  {
   "cell_type": "code",
   "execution_count": 48,
   "metadata": {},
   "outputs": [
    {
     "name": "stdout",
     "output_type": "stream",
     "text": [
      "{'02': 269, '01': 282, '22': 382, '21': 516, '19': 551, '17': 587, '15': 646, '14': 512, '13': 442, '11': 310, '10': 282, '09': 222, '07': 225, '03': 270, '23': 343, '20': 510, '16': 578, '08': 257, '00': 299, '18': 612, '12': 342, '04': 242, '06': 234, '05': 209}\n",
      "{'02': 2996, '01': 2089, '22': 3369, '21': 4500, '19': 3954, '17': 5547, '15': 18525, '14': 4970, '13': 7227, '11': 2794, '10': 3013, '09': 1477, '07': 1584, '03': 2153, '23': 2297, '20': 4462, '16': 4461, '08': 2362, '00': 2265, '18': 4868, '12': 4234, '04': 2358, '06': 1587, '05': 1838}\n"
     ]
    }
   ],
   "source": [
    "counts_by_hours = {}\n",
    "comments_by_hours = {}\n",
    "\n",
    "for row in result_list:\n",
    "    dt_object = dt.datetime.strptime(row[0], \"%m/%d/%Y %H:%S\")\n",
    "    hr_object = dt.datetime.strftime(dt_object, \"%H\")\n",
    "    if hr_object not in counts_by_hours:\n",
    "        counts_by_hours[hr_object] = 1\n",
    "        comments_by_hours[hr_object] = row[1]\n",
    "    else:\n",
    "        counts_by_hours[hr_object] += 1\n",
    "        comments_by_hours[hr_object] += row[1]\n",
    "        \n",
    "print(counts_by_hours)\n",
    "print(comments_by_hours)"
   ]
  },
  {
   "cell_type": "markdown",
   "metadata": {},
   "source": [
    "30. Use the example above to calculate the average number of comments per post for posts created during each hour of the day.\n",
    "31. The result should be a list of lists in which the first element is the hour and the second element is the average number of comments per post. Assign the result to a variable named avg_by_hour. Display the results."
   ]
  },
  {
   "cell_type": "code",
   "execution_count": 51,
   "metadata": {},
   "outputs": [
    {
     "name": "stdout",
     "output_type": "stream",
     "text": [
      "['02', 11.137546468401487]\n",
      "['01', 7.407801418439717]\n",
      "['22', 8.819371727748692]\n",
      "['21', 8.720930232558139]\n",
      "['19', 7.176043557168784]\n",
      "['17', 9.449744463373083]\n",
      "['15', 28.676470588235293]\n",
      "['14', 9.70703125]\n",
      "['13', 16.350678733031675]\n",
      "['11', 9.012903225806452]\n",
      "['10', 10.684397163120567]\n",
      "['09', 6.653153153153153]\n",
      "['07', 7.04]\n",
      "['03', 7.974074074074074]\n",
      "['23', 6.696793002915452]\n",
      "['20', 8.749019607843136]\n",
      "['16', 7.717993079584775]\n",
      "['08', 9.190661478599221]\n",
      "['00', 7.575250836120401]\n",
      "['18', 7.954248366013072]\n",
      "['12', 12.380116959064328]\n",
      "['04', 9.743801652892563]\n",
      "['06', 6.782051282051282]\n",
      "['05', 8.794258373205741]\n"
     ]
    }
   ],
   "source": [
    "avg_by_hour = []\n",
    "\n",
    "for hour in counts_by_hours:\n",
    "    avg_by_hour.append([hour, comments_by_hours[hour]/counts_by_hours[hour]])\n",
    "\n",
    "for i in avg_by_hour:\n",
    "    print(i)"
   ]
  },
  {
   "cell_type": "markdown",
   "metadata": {},
   "source": [
    "32. Create a list that equals avg_by_hour with swapped columns.\n",
    "    Create an empty list and assign it to swap_avg_by_hour.\n",
    "    Iterate over the rows of avg_by_hour and append to swap_avg_by_hour a list whose first element is the second element of the row, and whose second element is the first element of the row.\n",
    "33. Print swap_avg_by_hour.\n",
    "34. Use the sorted() function to sort swap_avg_by_hour in descending order. Since the first column of this list is the average number of comments, sorting the list will sort by the average number of comments.\n",
    "    Set the reverse argument to True, so that the highest value in the first column appears first in the list.\n",
    "    Assign the result to sorted_swap.\n",
    "35. Print the string \"Top 5 Hours for Ask Posts Comments\".\n",
    "36. Loop through each average and each hour (in this order) in the first five lists of sorted_swap.\n",
    "37. Use the str.format() method to print the hour and average in the following format: 15:00: 38.59 average comments per post.\n",
    "    To format the hours, use the datetime.strptime() constructor to return a datetime object and then use the strftime() method to specify the format of the time.\n",
    "    To format the average, you can use {:.2f} to indicate that just two decimal places should be used.\n",
    "38. Which hours should you create a post during to have a higher chance of receiving comments? Refer back to the documentation for the data set to convert the times to the time zone you live in. Write a markdown cell explaining your findings."
   ]
  },
  {
   "cell_type": "code",
   "execution_count": 54,
   "metadata": {},
   "outputs": [
    {
     "name": "stdout",
     "output_type": "stream",
     "text": [
      "[11.137546468401487, '02']\n",
      "[7.407801418439717, '01']\n",
      "[8.819371727748692, '22']\n",
      "[8.720930232558139, '21']\n",
      "[7.176043557168784, '19']\n",
      "[9.449744463373083, '17']\n",
      "[28.676470588235293, '15']\n",
      "[9.70703125, '14']\n",
      "[16.350678733031675, '13']\n",
      "[9.012903225806452, '11']\n",
      "[10.684397163120567, '10']\n",
      "[6.653153153153153, '09']\n",
      "[7.04, '07']\n",
      "[7.974074074074074, '03']\n",
      "[6.696793002915452, '23']\n",
      "[8.749019607843136, '20']\n",
      "[7.717993079584775, '16']\n",
      "[9.190661478599221, '08']\n",
      "[7.575250836120401, '00']\n",
      "[7.954248366013072, '18']\n",
      "[12.380116959064328, '12']\n",
      "[9.743801652892563, '04']\n",
      "[6.782051282051282, '06']\n",
      "[8.794258373205741, '05']\n"
     ]
    }
   ],
   "source": [
    "swap_avg_by_hour = []\n",
    "for row in avg_by_hour:\n",
    "    swap_avg_by_hour.append([row[1], row[0]])\n",
    "for row in swap_avg_by_hour:\n",
    "    print(row)"
   ]
  },
  {
   "cell_type": "code",
   "execution_count": 76,
   "metadata": {},
   "outputs": [
    {
     "name": "stdout",
     "output_type": "stream",
     "text": [
      "Top 5 Hours for Ask Posts Comments\n",
      "15:00: 28.68 average comments per post\n",
      "13:00: 16.35 average comments per post\n",
      "12:00: 12.38 average comments per post\n",
      "02:00: 11.14 average comments per post\n",
      "10:00: 10.68 average comments per post\n"
     ]
    }
   ],
   "source": [
    "sorted_swap = sorted(swap_avg_by_hour, reverse=True)\n",
    "print(\"Top 5 Hours for Ask Posts Comments\")\n",
    "for i in range(5):\n",
    "    dt_obj = dt.datetime.strptime(sorted_swap[i][1], \"%H\")\n",
    "    time_obj = dt.datetime.strftime(dt_obj, \"%H:%M:\")\n",
    "    avg = sorted_swap[i][0]\n",
    "    my_string = \"{} {:.2f} average comments per post\".format(time_obj, avg)\n",
    "    print(my_string)"
   ]
  },
  {
   "cell_type": "code",
   "execution_count": null,
   "metadata": {},
   "outputs": [],
   "source": []
  }
 ],
 "metadata": {
  "kernelspec": {
   "display_name": "Python 3",
   "language": "python",
   "name": "python3"
  },
  "language_info": {
   "codemirror_mode": {
    "name": "ipython",
    "version": 3
   },
   "file_extension": ".py",
   "mimetype": "text/x-python",
   "name": "python",
   "nbconvert_exporter": "python",
   "pygments_lexer": "ipython3",
   "version": "3.7.1"
  }
 },
 "nbformat": 4,
 "nbformat_minor": 2
}
